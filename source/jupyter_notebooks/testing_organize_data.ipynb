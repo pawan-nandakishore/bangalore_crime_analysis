{
 "cells": [
  {
   "cell_type": "code",
   "execution_count": 1,
   "metadata": {},
   "outputs": [],
   "source": [
    "import ast\n",
    "import pandas as pd\n",
    "import yaml as ym\n"
   ]
  },
  {
   "cell_type": "code",
   "execution_count": 2,
   "metadata": {},
   "outputs": [],
   "source": [
    "with open(\"config.yaml\", 'r') as yaml_file:\n",
    "        config_file = ym.safe_load(yaml_file)\n",
    "\n",
    "file_loc =config_file[\"file_loc\"]"
   ]
  },
  {
   "cell_type": "code",
   "execution_count": 3,
   "metadata": {},
   "outputs": [],
   "source": [
    "json_file  = file_loc\n",
    "data_list = []\n",
    "\n",
    "# open the file and read lines\n",
    "with open(json_file) as f: \n",
    "    data_list.append(f.readlines()) \n",
    "\n",
    "\n",
    "url_data= []\n",
    "content_data = []\n",
    "auth_datetime = []\n",
    "\n",
    "# this for loop is over is the list of data points \n",
    "for indx, row in enumerate(data_list[0]): \n",
    "\n",
    "    if len(row) > 2: \n",
    "\n",
    "        # ast.literal_eval converts a string to a\n",
    "        # python object, in this case a list \n",
    "        obj= ast.literal_eval(row.strip())\n",
    "\n",
    "\n",
    "        # try statement since the last article entry \n",
    "        # does not seem to work with obj[0]. Its just \n",
    "        # a work around\n",
    "        try: \n",
    "            \n",
    "            auth_datetime.append(obj[0][\"auth_datetime\"])\n",
    "            url_data.append(obj[0][\"url\"])\n",
    "            content_data.append(obj[0][\"content\"])\n",
    "            \n",
    "        except: \n",
    "            auth_datetime.append(obj[\"auth_datetime\"])\n",
    "            url_data.append(obj[\"url\"])\n",
    "            content_data.append(obj[\"content\"]) \n",
    "    \n",
    "    "
   ]
  },
  {
   "cell_type": "code",
   "execution_count": 6,
   "metadata": {},
   "outputs": [
    {
     "data": {
      "text/plain": [
       "2604"
      ]
     },
     "execution_count": 6,
     "metadata": {},
     "output_type": "execute_result"
    }
   ],
   "source": []
  },
  {
   "cell_type": "code",
   "execution_count": null,
   "metadata": {},
   "outputs": [],
   "source": []
  }
 ],
 "metadata": {
  "kernelspec": {
   "display_name": "Python 3",
   "language": "python",
   "name": "python3"
  },
  "language_info": {
   "codemirror_mode": {
    "name": "ipython",
    "version": 3
   },
   "file_extension": ".py",
   "mimetype": "text/x-python",
   "name": "python",
   "nbconvert_exporter": "python",
   "pygments_lexer": "ipython3",
   "version": "3.7.6"
  }
 },
 "nbformat": 4,
 "nbformat_minor": 4
}
