{
 "cells": [
  {
   "cell_type": "code",
   "execution_count": 1,
   "metadata": {},
   "outputs": [],
   "source": [
    "import ast\n",
    "import pandas as pd\n",
    "import yaml as ym\n",
    "import json \n"
   ]
  },
  {
   "cell_type": "code",
   "execution_count": 2,
   "metadata": {},
   "outputs": [],
   "source": [
    "with open(\"config.yaml\", 'r') as yaml_file:\n",
    "        config_file = ym.safe_load(yaml_file)\n",
    "\n",
    "file_loc =config_file[\"file_loc\"]"
   ]
  },
  {
   "cell_type": "code",
   "execution_count": 7,
   "metadata": {},
   "outputs": [],
   "source": [
    "json_file  = file_loc\n",
    "data_list = []\n",
    "\n",
    "# open the file and read lines\n",
    "with open(json_file) as f: \n",
    "    data_list = json.load(f) \n",
    "\n",
    "\n",
    "url_data= []\n",
    "content_data = []\n",
    "auth_datetime = []\n",
    "\n",
    "# this for loop is over is the list of data points \n",
    "for indx, row in enumerate(data_list): \n",
    "\n",
    "    if len(row) > 2: \n",
    "\n",
    "        try: \n",
    "            \n",
    "            auth_datetime.append(row[\"auth_datetime\"])\n",
    "            url_data.append(row[\"url\"])\n",
    "            content_data.append(row[\"content\"])\n",
    "            \n",
    "        except: \n",
    "            auth_datetime.append(row[\"auth_datetime\"])\n",
    "            url_data.append(row[\"url\"])\n",
    "            content_data.append(row[\"content\"]) \n",
    "    \n",
    "    "
   ]
  },
  {
   "cell_type": "code",
   "execution_count": 11,
   "metadata": {},
   "outputs": [
    {
     "data": {
      "text/plain": [
       "4"
      ]
     },
     "execution_count": 11,
     "metadata": {},
     "output_type": "execute_result"
    }
   ],
   "source": [
    "\n",
    "row"
   ]
  },
  {
   "cell_type": "code",
   "execution_count": null,
   "metadata": {},
   "outputs": [],
   "source": []
  },
  {
   "cell_type": "code",
   "execution_count": null,
   "metadata": {},
   "outputs": [],
   "source": []
  }
 ],
 "metadata": {
  "kernelspec": {
   "display_name": "Python 3",
   "language": "python",
   "name": "python3"
  },
  "language_info": {
   "codemirror_mode": {
    "name": "ipython",
    "version": 3
   },
   "file_extension": ".py",
   "mimetype": "text/x-python",
   "name": "python",
   "nbconvert_exporter": "python",
   "pygments_lexer": "ipython3",
   "version": "3.7.3"
  }
 },
 "nbformat": 4,
 "nbformat_minor": 4
}
