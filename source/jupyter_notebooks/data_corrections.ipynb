{
 "cells": [
  {
   "cell_type": "code",
   "execution_count": 27,
   "metadata": {},
   "outputs": [],
   "source": [
    "import re \n",
    "import pandas as pd \n",
    "import numpy as np \n",
    "import get_data as gd \n",
    "import yaml as ym\n",
    "from datetime import datetime\n",
    "import nltk as nk \n",
    "import spacy as sp\n",
    "from nltk.tag.stanford import StanfordNERTagger as st\n",
    "import plotly.express as px\n"
   ]
  },
  {
   "cell_type": "markdown",
   "metadata": {},
   "source": [
    "## Functions "
   ]
  },
  {
   "cell_type": "code",
   "execution_count": 2,
   "metadata": {},
   "outputs": [],
   "source": [
    "def words_in_all_articles(search_words, all_articles): \n",
    "    \"\"\"\n",
    "    Take a list of search words and find them in the dataframe of articles \n",
    "    where the dataframe contains a column called content which contains the \n",
    "    text of the article\n",
    "\n",
    "    This returns a list containing indices of the articles where the search\n",
    "    words are present and a list containing the text of the relevant articles \n",
    "\n",
    "    \"\"\"\n",
    "    articles= []\n",
    "    for num in range(0, len(all_articles)):\n",
    "        single_page = \"\"\n",
    "        art_content = all_articles.iloc[num].content\n",
    "        single_page = single_page.join(art_content)\n",
    "        single_page = single_page.replace(\"\\n\", \" \")\n",
    "\n",
    "        in_count = 0\n",
    "\n",
    "        for word in search_words: \n",
    "            if word in single_page: \n",
    "                in_count += 1\n",
    "\n",
    "        if in_count > 0: \n",
    "            contains_list.append(num)\n",
    "            articles.append(single_page.strip())\n",
    "            \n",
    "    return contains_list, articles\n"
   ]
  },
  {
   "cell_type": "markdown",
   "metadata": {},
   "source": [
    "## Generate dataset\n"
   ]
  },
  {
   "cell_type": "code",
   "execution_count": 3,
   "metadata": {},
   "outputs": [],
   "source": [
    "# importing the config file with its values \n",
    "with open(\"config.yaml\", 'r') as yaml_file:\n",
    "        config_file = ym.safe_load(yaml_file)\n",
    "\n",
    "#location of data file \n",
    "file_loc = config_file[\"file_loc\"]        \n",
    "\n",
    "#months dictionary\n",
    "months = config_file[\"months\"]\n",
    "months_list = list(months.keys())\n",
    "        "
   ]
  },
  {
   "cell_type": "code",
   "execution_count": 4,
   "metadata": {},
   "outputs": [
    {
     "name": "stdout",
     "output_type": "stream",
     "text": [
      "auth_datetime_length 2601\n"
     ]
    }
   ],
   "source": [
    "# checking the number of available articles \n",
    "auth_datetime, url_data, content_data = gd.organize_data(file_loc)\n",
    "print(\"auth_datetime_length {}\" .format( len(auth_datetime)))\n"
   ]
  },
  {
   "cell_type": "code",
   "execution_count": 5,
   "metadata": {},
   "outputs": [],
   "source": [
    "# isolating the datetime and author info\n",
    "datetime_info = []\n",
    "for x in auth_datetime: \n",
    "    auth_time_info = \"\"\n",
    "    auth_time_info = auth_time_info.join(x)\n",
    "    auth_time_info = auth_time_info.lower()\n",
    "    datetime_obj = auth_time_info.split('updated:')[-1]\n",
    "    datetime_info.append(datetime_obj)\n",
    "    \n"
   ]
  },
  {
   "cell_type": "code",
   "execution_count": 6,
   "metadata": {},
   "outputs": [],
   "source": [
    "# using datetime package to convert string date and time to datetime object\n",
    "row = []\n",
    "new_datetime_format = [\"None\" for _ in range(len(auth_datetime))]\n",
    "\n",
    "for indx, dt in enumerate(datetime_info): \n",
    "        dt = dt.replace(\"ist\", \"\").strip().replace(\",\",\"-\").replace(\" \", \"\")\n",
    "        if dt:\n",
    "            for x in months_list: \n",
    "                find_val = dt.find(x)\n",
    "                if find_val != -1: \n",
    "                    dt = dt.replace(x,str(months[x])+'-')\n",
    "                    dd = datetime.strptime(dt, '%m-%d-%Y-%H:%M')\n",
    "                    new_datetime_format[indx] = dd\n",
    "                    row.append(indx)\n",
    "\n",
    "       "
   ]
  },
  {
   "cell_type": "code",
   "execution_count": 7,
   "metadata": {},
   "outputs": [],
   "source": [
    "# parsing datetime object to get date time features\n",
    "all_years = [\"None\" for _ in range(len(auth_datetime))]\n",
    "all_days = [\"None\" for _ in range(len(auth_datetime))]\n",
    "all_months = [\"None\" for _ in range(len(auth_datetime))]\n",
    "all_hours =[\"None\" for _ in range(len(auth_datetime))]\n",
    "all_mins = [\"None\" for _ in range(len(auth_datetime))]\n",
    "\n",
    "for indx, x in enumerate(new_datetime_format):\n",
    "    if x != \"None\": \n",
    "        all_years[indx] = x.year\n",
    "        all_days[indx] = x.day\n",
    "        all_months[indx] = x.month\n",
    "        all_hours[indx] = x.hour\n",
    "        all_mins[indx] = x.minute"
   ]
  },
  {
   "cell_type": "code",
   "execution_count": 8,
   "metadata": {},
   "outputs": [
    {
     "data": {
      "text/html": [
       "<div>\n",
       "<style scoped>\n",
       "    .dataframe tbody tr th:only-of-type {\n",
       "        vertical-align: middle;\n",
       "    }\n",
       "\n",
       "    .dataframe tbody tr th {\n",
       "        vertical-align: top;\n",
       "    }\n",
       "\n",
       "    .dataframe thead th {\n",
       "        text-align: right;\n",
       "    }\n",
       "</style>\n",
       "<table border=\"1\" class=\"dataframe\">\n",
       "  <thead>\n",
       "    <tr style=\"text-align: right;\">\n",
       "      <th></th>\n",
       "      <th>auth_datetime</th>\n",
       "      <th>url_data</th>\n",
       "      <th>content</th>\n",
       "      <th>year</th>\n",
       "      <th>month</th>\n",
       "      <th>day</th>\n",
       "      <th>hour</th>\n",
       "      <th>minutes</th>\n",
       "    </tr>\n",
       "  </thead>\n",
       "  <tbody>\n",
       "    <tr>\n",
       "      <th>0</th>\n",
       "      <td>[By , Praveen Kumar, Praveen Kumar, , Bangalor...</td>\n",
       "      <td>https://bangaloremirror.indiatimes.com/bangalo...</td>\n",
       "      <td>[A ,  was arrested when ,  Rural police, on Th...</td>\n",
       "      <td>2019</td>\n",
       "      <td>5</td>\n",
       "      <td>25</td>\n",
       "      <td>5</td>\n",
       "      <td>0</td>\n",
       "    </tr>\n",
       "    <tr>\n",
       "      <th>1</th>\n",
       "      <td>[Bangalore Mirror Bureau , |,  Updated: May 20...</td>\n",
       "      <td>https://bangaloremirror.indiatimes.com/bangalo...</td>\n",
       "      <td>[Fourteen stolen ,  and ,  of Rs 82,000 face v...</td>\n",
       "      <td>2019</td>\n",
       "      <td>5</td>\n",
       "      <td>20</td>\n",
       "      <td>6</td>\n",
       "      <td>0</td>\n",
       "    </tr>\n",
       "    <tr>\n",
       "      <th>2</th>\n",
       "      <td>[Bangalore Mirror Bureau , |,  Updated: May 19...</td>\n",
       "      <td>https://bangaloremirror.indiatimes.com/bangalo...</td>\n",
       "      <td>[Police nabbed two persons, who were seen acti...</td>\n",
       "      <td>2019</td>\n",
       "      <td>5</td>\n",
       "      <td>19</td>\n",
       "      <td>3</td>\n",
       "      <td>0</td>\n",
       "    </tr>\n",
       "    <tr>\n",
       "      <th>3</th>\n",
       "      <td>[Bangalore Mirror Bureau , |,  Updated: May 20...</td>\n",
       "      <td>https://bangaloremirror.indiatimes.com/bangalo...</td>\n",
       "      <td>[A man waiting for a bus was robbed at ,  by t...</td>\n",
       "      <td>2019</td>\n",
       "      <td>5</td>\n",
       "      <td>20</td>\n",
       "      <td>4</td>\n",
       "      <td>0</td>\n",
       "    </tr>\n",
       "    <tr>\n",
       "      <th>4</th>\n",
       "      <td>[PTI , |,  Updated: May 20, 2019, 18:09 IST]</td>\n",
       "      <td>https://bangaloremirror.indiatimes.com/bangalo...</td>\n",
       "      <td>[ Two members of the notorious ,  were shot at...</td>\n",
       "      <td>2019</td>\n",
       "      <td>5</td>\n",
       "      <td>20</td>\n",
       "      <td>18</td>\n",
       "      <td>9</td>\n",
       "    </tr>\n",
       "    <tr>\n",
       "      <th>...</th>\n",
       "      <td>...</td>\n",
       "      <td>...</td>\n",
       "      <td>...</td>\n",
       "      <td>...</td>\n",
       "      <td>...</td>\n",
       "      <td>...</td>\n",
       "      <td>...</td>\n",
       "      <td>...</td>\n",
       "    </tr>\n",
       "    <tr>\n",
       "      <th>95</th>\n",
       "      <td>[By , Praveen Kumar, Praveen Kumar, , Bangalor...</td>\n",
       "      <td>https://bangaloremirror.indiatimes.com/bangalo...</td>\n",
       "      <td>[\\n, \\n,  (BoI) officials at the Kempegowda In...</td>\n",
       "      <td>2019</td>\n",
       "      <td>4</td>\n",
       "      <td>18</td>\n",
       "      <td>6</td>\n",
       "      <td>0</td>\n",
       "    </tr>\n",
       "    <tr>\n",
       "      <th>96</th>\n",
       "      <td>[Bangalore Mirror Bureau , |,  Updated: Apr 19...</td>\n",
       "      <td>https://bangaloremirror.indiatimes.com/bangalo...</td>\n",
       "      <td>[\\n, \\n, After a three-year-old girl child was...</td>\n",
       "      <td>2019</td>\n",
       "      <td>4</td>\n",
       "      <td>19</td>\n",
       "      <td>6</td>\n",
       "      <td>0</td>\n",
       "    </tr>\n",
       "    <tr>\n",
       "      <th>97</th>\n",
       "      <td>[By , Praveen Kumar, Praveen Kumar, , Bangalor...</td>\n",
       "      <td>https://bangaloremirror.indiatimes.com/bangalo...</td>\n",
       "      <td>[The ,  International Airport police have arre...</td>\n",
       "      <td>2019</td>\n",
       "      <td>4</td>\n",
       "      <td>21</td>\n",
       "      <td>6</td>\n",
       "      <td>0</td>\n",
       "    </tr>\n",
       "    <tr>\n",
       "      <th>98</th>\n",
       "      <td>[Bangalore Mirror Bureau , |,  Updated: Apr 22...</td>\n",
       "      <td>https://bangaloremirror.indiatimes.com/bangalo...</td>\n",
       "      <td>[\\n, \\n, I n a joint operation, Hosakote, Nand...</td>\n",
       "      <td>2019</td>\n",
       "      <td>4</td>\n",
       "      <td>22</td>\n",
       "      <td>6</td>\n",
       "      <td>0</td>\n",
       "    </tr>\n",
       "    <tr>\n",
       "      <th>99</th>\n",
       "      <td>[Bangalore Mirror Bureau , |,  Updated: Apr 21...</td>\n",
       "      <td>https://bangaloremirror.indiatimes.com/bangalo...</td>\n",
       "      <td>[ (Karnataka-Goa) on Saturday seized Rs 4.5 cr...</td>\n",
       "      <td>2019</td>\n",
       "      <td>4</td>\n",
       "      <td>21</td>\n",
       "      <td>6</td>\n",
       "      <td>0</td>\n",
       "    </tr>\n",
       "  </tbody>\n",
       "</table>\n",
       "<p>100 rows × 8 columns</p>\n",
       "</div>"
      ],
      "text/plain": [
       "                                        auth_datetime  \\\n",
       "0   [By , Praveen Kumar, Praveen Kumar, , Bangalor...   \n",
       "1   [Bangalore Mirror Bureau , |,  Updated: May 20...   \n",
       "2   [Bangalore Mirror Bureau , |,  Updated: May 19...   \n",
       "3   [Bangalore Mirror Bureau , |,  Updated: May 20...   \n",
       "4        [PTI , |,  Updated: May 20, 2019, 18:09 IST]   \n",
       "..                                                ...   \n",
       "95  [By , Praveen Kumar, Praveen Kumar, , Bangalor...   \n",
       "96  [Bangalore Mirror Bureau , |,  Updated: Apr 19...   \n",
       "97  [By , Praveen Kumar, Praveen Kumar, , Bangalor...   \n",
       "98  [Bangalore Mirror Bureau , |,  Updated: Apr 22...   \n",
       "99  [Bangalore Mirror Bureau , |,  Updated: Apr 21...   \n",
       "\n",
       "                                             url_data  \\\n",
       "0   https://bangaloremirror.indiatimes.com/bangalo...   \n",
       "1   https://bangaloremirror.indiatimes.com/bangalo...   \n",
       "2   https://bangaloremirror.indiatimes.com/bangalo...   \n",
       "3   https://bangaloremirror.indiatimes.com/bangalo...   \n",
       "4   https://bangaloremirror.indiatimes.com/bangalo...   \n",
       "..                                                ...   \n",
       "95  https://bangaloremirror.indiatimes.com/bangalo...   \n",
       "96  https://bangaloremirror.indiatimes.com/bangalo...   \n",
       "97  https://bangaloremirror.indiatimes.com/bangalo...   \n",
       "98  https://bangaloremirror.indiatimes.com/bangalo...   \n",
       "99  https://bangaloremirror.indiatimes.com/bangalo...   \n",
       "\n",
       "                                              content  year month day hour  \\\n",
       "0   [A ,  was arrested when ,  Rural police, on Th...  2019     5  25    5   \n",
       "1   [Fourteen stolen ,  and ,  of Rs 82,000 face v...  2019     5  20    6   \n",
       "2   [Police nabbed two persons, who were seen acti...  2019     5  19    3   \n",
       "3   [A man waiting for a bus was robbed at ,  by t...  2019     5  20    4   \n",
       "4   [ Two members of the notorious ,  were shot at...  2019     5  20   18   \n",
       "..                                                ...   ...   ...  ..  ...   \n",
       "95  [\\n, \\n,  (BoI) officials at the Kempegowda In...  2019     4  18    6   \n",
       "96  [\\n, \\n, After a three-year-old girl child was...  2019     4  19    6   \n",
       "97  [The ,  International Airport police have arre...  2019     4  21    6   \n",
       "98  [\\n, \\n, I n a joint operation, Hosakote, Nand...  2019     4  22    6   \n",
       "99  [ (Karnataka-Goa) on Saturday seized Rs 4.5 cr...  2019     4  21    6   \n",
       "\n",
       "   minutes  \n",
       "0        0  \n",
       "1        0  \n",
       "2        0  \n",
       "3        0  \n",
       "4        9  \n",
       "..     ...  \n",
       "95       0  \n",
       "96       0  \n",
       "97       0  \n",
       "98       0  \n",
       "99       0  \n",
       "\n",
       "[100 rows x 8 columns]"
      ]
     },
     "execution_count": 8,
     "metadata": {},
     "output_type": "execute_result"
    }
   ],
   "source": [
    "# generating a dataframe to store all the data \n",
    "\n",
    "all_data = {\"auth_datetime\": auth_datetime, \n",
    "            \"url_data\": url_data,\n",
    "            \"content\": content_data,\n",
    "            \"year\":all_years,\n",
    "            \"month\": all_months,\n",
    "            \"day\": all_days, \n",
    "            \"hour\": all_hours, \n",
    "            \"minutes\": all_mins}\n",
    "\n",
    "all_data_df  = pd.DataFrame(data = all_data)\n",
    "all_data_df.head(100)\n"
   ]
  },
  {
   "cell_type": "code",
   "execution_count": null,
   "metadata": {},
   "outputs": [],
   "source": []
  },
  {
   "cell_type": "code",
   "execution_count": 55,
   "metadata": {},
   "outputs": [
    {
     "data": {
      "application/vnd.plotly.v1+json": {
       "config": {
        "plotlyServerURL": "https://plot.ly"
       },
       "data": [
        {
         "alignmentgroup": "True",
         "hovertemplate": "index=%{x}<br>y=%{y}<extra></extra>",
         "legendgroup": "",
         "marker": {
          "color": "#636efa"
         },
         "name": "",
         "offsetgroup": "",
         "orientation": "v",
         "showlegend": false,
         "textposition": "auto",
         "type": "bar",
         "x": [
          2016,
          2017,
          2018,
          2019
         ],
         "xaxis": "x",
         "y": [
          413,
          794,
          896,
          411
         ],
         "yaxis": "y"
        }
       ],
       "layout": {
        "autosize": true,
        "barmode": "relative",
        "legend": {
         "tracegroupgap": 0
        },
        "margin": {
         "t": 60
        },
        "template": {
         "data": {
          "bar": [
           {
            "error_x": {
             "color": "#2a3f5f"
            },
            "error_y": {
             "color": "#2a3f5f"
            },
            "marker": {
             "line": {
              "color": "#E5ECF6",
              "width": 0.5
             }
            },
            "type": "bar"
           }
          ],
          "barpolar": [
           {
            "marker": {
             "line": {
              "color": "#E5ECF6",
              "width": 0.5
             }
            },
            "type": "barpolar"
           }
          ],
          "carpet": [
           {
            "aaxis": {
             "endlinecolor": "#2a3f5f",
             "gridcolor": "white",
             "linecolor": "white",
             "minorgridcolor": "white",
             "startlinecolor": "#2a3f5f"
            },
            "baxis": {
             "endlinecolor": "#2a3f5f",
             "gridcolor": "white",
             "linecolor": "white",
             "minorgridcolor": "white",
             "startlinecolor": "#2a3f5f"
            },
            "type": "carpet"
           }
          ],
          "choropleth": [
           {
            "colorbar": {
             "outlinewidth": 0,
             "ticks": ""
            },
            "type": "choropleth"
           }
          ],
          "contour": [
           {
            "colorbar": {
             "outlinewidth": 0,
             "ticks": ""
            },
            "colorscale": [
             [
              0,
              "#0d0887"
             ],
             [
              0.1111111111111111,
              "#46039f"
             ],
             [
              0.2222222222222222,
              "#7201a8"
             ],
             [
              0.3333333333333333,
              "#9c179e"
             ],
             [
              0.4444444444444444,
              "#bd3786"
             ],
             [
              0.5555555555555556,
              "#d8576b"
             ],
             [
              0.6666666666666666,
              "#ed7953"
             ],
             [
              0.7777777777777778,
              "#fb9f3a"
             ],
             [
              0.8888888888888888,
              "#fdca26"
             ],
             [
              1,
              "#f0f921"
             ]
            ],
            "type": "contour"
           }
          ],
          "contourcarpet": [
           {
            "colorbar": {
             "outlinewidth": 0,
             "ticks": ""
            },
            "type": "contourcarpet"
           }
          ],
          "heatmap": [
           {
            "colorbar": {
             "outlinewidth": 0,
             "ticks": ""
            },
            "colorscale": [
             [
              0,
              "#0d0887"
             ],
             [
              0.1111111111111111,
              "#46039f"
             ],
             [
              0.2222222222222222,
              "#7201a8"
             ],
             [
              0.3333333333333333,
              "#9c179e"
             ],
             [
              0.4444444444444444,
              "#bd3786"
             ],
             [
              0.5555555555555556,
              "#d8576b"
             ],
             [
              0.6666666666666666,
              "#ed7953"
             ],
             [
              0.7777777777777778,
              "#fb9f3a"
             ],
             [
              0.8888888888888888,
              "#fdca26"
             ],
             [
              1,
              "#f0f921"
             ]
            ],
            "type": "heatmap"
           }
          ],
          "heatmapgl": [
           {
            "colorbar": {
             "outlinewidth": 0,
             "ticks": ""
            },
            "colorscale": [
             [
              0,
              "#0d0887"
             ],
             [
              0.1111111111111111,
              "#46039f"
             ],
             [
              0.2222222222222222,
              "#7201a8"
             ],
             [
              0.3333333333333333,
              "#9c179e"
             ],
             [
              0.4444444444444444,
              "#bd3786"
             ],
             [
              0.5555555555555556,
              "#d8576b"
             ],
             [
              0.6666666666666666,
              "#ed7953"
             ],
             [
              0.7777777777777778,
              "#fb9f3a"
             ],
             [
              0.8888888888888888,
              "#fdca26"
             ],
             [
              1,
              "#f0f921"
             ]
            ],
            "type": "heatmapgl"
           }
          ],
          "histogram": [
           {
            "marker": {
             "colorbar": {
              "outlinewidth": 0,
              "ticks": ""
             }
            },
            "type": "histogram"
           }
          ],
          "histogram2d": [
           {
            "colorbar": {
             "outlinewidth": 0,
             "ticks": ""
            },
            "colorscale": [
             [
              0,
              "#0d0887"
             ],
             [
              0.1111111111111111,
              "#46039f"
             ],
             [
              0.2222222222222222,
              "#7201a8"
             ],
             [
              0.3333333333333333,
              "#9c179e"
             ],
             [
              0.4444444444444444,
              "#bd3786"
             ],
             [
              0.5555555555555556,
              "#d8576b"
             ],
             [
              0.6666666666666666,
              "#ed7953"
             ],
             [
              0.7777777777777778,
              "#fb9f3a"
             ],
             [
              0.8888888888888888,
              "#fdca26"
             ],
             [
              1,
              "#f0f921"
             ]
            ],
            "type": "histogram2d"
           }
          ],
          "histogram2dcontour": [
           {
            "colorbar": {
             "outlinewidth": 0,
             "ticks": ""
            },
            "colorscale": [
             [
              0,
              "#0d0887"
             ],
             [
              0.1111111111111111,
              "#46039f"
             ],
             [
              0.2222222222222222,
              "#7201a8"
             ],
             [
              0.3333333333333333,
              "#9c179e"
             ],
             [
              0.4444444444444444,
              "#bd3786"
             ],
             [
              0.5555555555555556,
              "#d8576b"
             ],
             [
              0.6666666666666666,
              "#ed7953"
             ],
             [
              0.7777777777777778,
              "#fb9f3a"
             ],
             [
              0.8888888888888888,
              "#fdca26"
             ],
             [
              1,
              "#f0f921"
             ]
            ],
            "type": "histogram2dcontour"
           }
          ],
          "mesh3d": [
           {
            "colorbar": {
             "outlinewidth": 0,
             "ticks": ""
            },
            "type": "mesh3d"
           }
          ],
          "parcoords": [
           {
            "line": {
             "colorbar": {
              "outlinewidth": 0,
              "ticks": ""
             }
            },
            "type": "parcoords"
           }
          ],
          "pie": [
           {
            "automargin": true,
            "type": "pie"
           }
          ],
          "scatter": [
           {
            "marker": {
             "colorbar": {
              "outlinewidth": 0,
              "ticks": ""
             }
            },
            "type": "scatter"
           }
          ],
          "scatter3d": [
           {
            "line": {
             "colorbar": {
              "outlinewidth": 0,
              "ticks": ""
             }
            },
            "marker": {
             "colorbar": {
              "outlinewidth": 0,
              "ticks": ""
             }
            },
            "type": "scatter3d"
           }
          ],
          "scattercarpet": [
           {
            "marker": {
             "colorbar": {
              "outlinewidth": 0,
              "ticks": ""
             }
            },
            "type": "scattercarpet"
           }
          ],
          "scattergeo": [
           {
            "marker": {
             "colorbar": {
              "outlinewidth": 0,
              "ticks": ""
             }
            },
            "type": "scattergeo"
           }
          ],
          "scattergl": [
           {
            "marker": {
             "colorbar": {
              "outlinewidth": 0,
              "ticks": ""
             }
            },
            "type": "scattergl"
           }
          ],
          "scattermapbox": [
           {
            "marker": {
             "colorbar": {
              "outlinewidth": 0,
              "ticks": ""
             }
            },
            "type": "scattermapbox"
           }
          ],
          "scatterpolar": [
           {
            "marker": {
             "colorbar": {
              "outlinewidth": 0,
              "ticks": ""
             }
            },
            "type": "scatterpolar"
           }
          ],
          "scatterpolargl": [
           {
            "marker": {
             "colorbar": {
              "outlinewidth": 0,
              "ticks": ""
             }
            },
            "type": "scatterpolargl"
           }
          ],
          "scatterternary": [
           {
            "marker": {
             "colorbar": {
              "outlinewidth": 0,
              "ticks": ""
             }
            },
            "type": "scatterternary"
           }
          ],
          "surface": [
           {
            "colorbar": {
             "outlinewidth": 0,
             "ticks": ""
            },
            "colorscale": [
             [
              0,
              "#0d0887"
             ],
             [
              0.1111111111111111,
              "#46039f"
             ],
             [
              0.2222222222222222,
              "#7201a8"
             ],
             [
              0.3333333333333333,
              "#9c179e"
             ],
             [
              0.4444444444444444,
              "#bd3786"
             ],
             [
              0.5555555555555556,
              "#d8576b"
             ],
             [
              0.6666666666666666,
              "#ed7953"
             ],
             [
              0.7777777777777778,
              "#fb9f3a"
             ],
             [
              0.8888888888888888,
              "#fdca26"
             ],
             [
              1,
              "#f0f921"
             ]
            ],
            "type": "surface"
           }
          ],
          "table": [
           {
            "cells": {
             "fill": {
              "color": "#EBF0F8"
             },
             "line": {
              "color": "white"
             }
            },
            "header": {
             "fill": {
              "color": "#C8D4E3"
             },
             "line": {
              "color": "white"
             }
            },
            "type": "table"
           }
          ]
         },
         "layout": {
          "annotationdefaults": {
           "arrowcolor": "#2a3f5f",
           "arrowhead": 0,
           "arrowwidth": 1
          },
          "coloraxis": {
           "colorbar": {
            "outlinewidth": 0,
            "ticks": ""
           }
          },
          "colorscale": {
           "diverging": [
            [
             0,
             "#8e0152"
            ],
            [
             0.1,
             "#c51b7d"
            ],
            [
             0.2,
             "#de77ae"
            ],
            [
             0.3,
             "#f1b6da"
            ],
            [
             0.4,
             "#fde0ef"
            ],
            [
             0.5,
             "#f7f7f7"
            ],
            [
             0.6,
             "#e6f5d0"
            ],
            [
             0.7,
             "#b8e186"
            ],
            [
             0.8,
             "#7fbc41"
            ],
            [
             0.9,
             "#4d9221"
            ],
            [
             1,
             "#276419"
            ]
           ],
           "sequential": [
            [
             0,
             "#0d0887"
            ],
            [
             0.1111111111111111,
             "#46039f"
            ],
            [
             0.2222222222222222,
             "#7201a8"
            ],
            [
             0.3333333333333333,
             "#9c179e"
            ],
            [
             0.4444444444444444,
             "#bd3786"
            ],
            [
             0.5555555555555556,
             "#d8576b"
            ],
            [
             0.6666666666666666,
             "#ed7953"
            ],
            [
             0.7777777777777778,
             "#fb9f3a"
            ],
            [
             0.8888888888888888,
             "#fdca26"
            ],
            [
             1,
             "#f0f921"
            ]
           ],
           "sequentialminus": [
            [
             0,
             "#0d0887"
            ],
            [
             0.1111111111111111,
             "#46039f"
            ],
            [
             0.2222222222222222,
             "#7201a8"
            ],
            [
             0.3333333333333333,
             "#9c179e"
            ],
            [
             0.4444444444444444,
             "#bd3786"
            ],
            [
             0.5555555555555556,
             "#d8576b"
            ],
            [
             0.6666666666666666,
             "#ed7953"
            ],
            [
             0.7777777777777778,
             "#fb9f3a"
            ],
            [
             0.8888888888888888,
             "#fdca26"
            ],
            [
             1,
             "#f0f921"
            ]
           ]
          },
          "colorway": [
           "#636efa",
           "#EF553B",
           "#00cc96",
           "#ab63fa",
           "#FFA15A",
           "#19d3f3",
           "#FF6692",
           "#B6E880",
           "#FF97FF",
           "#FECB52"
          ],
          "font": {
           "color": "#2a3f5f"
          },
          "geo": {
           "bgcolor": "white",
           "lakecolor": "white",
           "landcolor": "#E5ECF6",
           "showlakes": true,
           "showland": true,
           "subunitcolor": "white"
          },
          "hoverlabel": {
           "align": "left"
          },
          "hovermode": "closest",
          "mapbox": {
           "style": "light"
          },
          "paper_bgcolor": "white",
          "plot_bgcolor": "#E5ECF6",
          "polar": {
           "angularaxis": {
            "gridcolor": "white",
            "linecolor": "white",
            "ticks": ""
           },
           "bgcolor": "#E5ECF6",
           "radialaxis": {
            "gridcolor": "white",
            "linecolor": "white",
            "ticks": ""
           }
          },
          "scene": {
           "xaxis": {
            "backgroundcolor": "#E5ECF6",
            "gridcolor": "white",
            "gridwidth": 2,
            "linecolor": "white",
            "showbackground": true,
            "ticks": "",
            "zerolinecolor": "white"
           },
           "yaxis": {
            "backgroundcolor": "#E5ECF6",
            "gridcolor": "white",
            "gridwidth": 2,
            "linecolor": "white",
            "showbackground": true,
            "ticks": "",
            "zerolinecolor": "white"
           },
           "zaxis": {
            "backgroundcolor": "#E5ECF6",
            "gridcolor": "white",
            "gridwidth": 2,
            "linecolor": "white",
            "showbackground": true,
            "ticks": "",
            "zerolinecolor": "white"
           }
          },
          "shapedefaults": {
           "line": {
            "color": "#2a3f5f"
           }
          },
          "ternary": {
           "aaxis": {
            "gridcolor": "white",
            "linecolor": "white",
            "ticks": ""
           },
           "baxis": {
            "gridcolor": "white",
            "linecolor": "white",
            "ticks": ""
           },
           "bgcolor": "#E5ECF6",
           "caxis": {
            "gridcolor": "white",
            "linecolor": "white",
            "ticks": ""
           }
          },
          "title": {
           "x": 0.05
          },
          "xaxis": {
           "automargin": true,
           "gridcolor": "white",
           "linecolor": "white",
           "ticks": "",
           "title": {
            "standoff": 15
           },
           "zerolinecolor": "white",
           "zerolinewidth": 2
          },
          "yaxis": {
           "automargin": true,
           "gridcolor": "white",
           "linecolor": "white",
           "ticks": "",
           "title": {
            "standoff": 15
           },
           "zerolinecolor": "white",
           "zerolinewidth": 2
          }
         }
        },
        "xaxis": {
         "anchor": "y",
         "autorange": true,
         "domain": [
          0,
          1
         ],
         "range": [
          -0.5,
          3.5
         ],
         "title": {
          "text": "Year"
         },
         "type": "category"
        },
        "yaxis": {
         "anchor": "x",
         "autorange": true,
         "domain": [
          0,
          1
         ],
         "range": [
          0,
          943.1578947368421
         ],
         "title": {
          "text": "Number of Articles"
         },
         "type": "linear"
        }
       }
      },
      "image/png": "[encoded data removed]",
      "text/html": [
       "<div>\n",
       "        \n",
       "        \n",
       "            <div id=\"51842a09-398d-4ebe-bdfb-396907ee48d3\" class=\"plotly-graph-div\" style=\"height:525px; width:100%;\"></div>\n",
       "            <script type=\"text/javascript\">\n",
       "                require([\"plotly\"], function(Plotly) {\n",
       "                    window.PLOTLYENV=window.PLOTLYENV || {};\n",
       "                    \n",
       "                if (document.getElementById(\"51842a09-398d-4ebe-bdfb-396907ee48d3\")) {\n",
       "                    Plotly.newPlot(\n",
       "                        '51842a09-398d-4ebe-bdfb-396907ee48d3',\n",
       "                        [{\"alignmentgroup\": \"True\", \"hovertemplate\": \"index=%{x}<br>y=%{y}<extra></extra>\", \"legendgroup\": \"\", \"marker\": {\"color\": \"#636efa\"}, \"name\": \"\", \"offsetgroup\": \"\", \"orientation\": \"v\", \"showlegend\": false, \"textposition\": \"auto\", \"type\": \"bar\", \"x\": [2016, 2017, 2018, 2019], \"xaxis\": \"x\", \"y\": [413, 794, 896, 411], \"yaxis\": \"y\"}],\n",
       "                        {\"barmode\": \"relative\", \"legend\": {\"tracegroupgap\": 0}, \"margin\": {\"t\": 60}, \"template\": {\"data\": {\"bar\": [{\"error_x\": {\"color\": \"#2a3f5f\"}, \"error_y\": {\"color\": \"#2a3f5f\"}, \"marker\": {\"line\": {\"color\": \"#E5ECF6\", \"width\": 0.5}}, \"type\": \"bar\"}], \"barpolar\": [{\"marker\": {\"line\": {\"color\": \"#E5ECF6\", \"width\": 0.5}}, \"type\": \"barpolar\"}], \"carpet\": [{\"aaxis\": {\"endlinecolor\": \"#2a3f5f\", \"gridcolor\": \"white\", \"linecolor\": \"white\", \"minorgridcolor\": \"white\", \"startlinecolor\": \"#2a3f5f\"}, \"baxis\": {\"endlinecolor\": \"#2a3f5f\", \"gridcolor\": \"white\", \"linecolor\": \"white\", \"minorgridcolor\": \"white\", \"startlinecolor\": \"#2a3f5f\"}, \"type\": \"carpet\"}], \"choropleth\": [{\"colorbar\": {\"outlinewidth\": 0, \"ticks\": \"\"}, \"type\": \"choropleth\"}], \"contour\": [{\"colorbar\": {\"outlinewidth\": 0, \"ticks\": \"\"}, \"colorscale\": [[0.0, \"#0d0887\"], [0.1111111111111111, \"#46039f\"], [0.2222222222222222, \"#7201a8\"], [0.3333333333333333, \"#9c179e\"], [0.4444444444444444, \"#bd3786\"], [0.5555555555555556, \"#d8576b\"], [0.6666666666666666, \"#ed7953\"], [0.7777777777777778, \"#fb9f3a\"], [0.8888888888888888, \"#fdca26\"], [1.0, \"#f0f921\"]], \"type\": \"contour\"}], \"contourcarpet\": [{\"colorbar\": {\"outlinewidth\": 0, \"ticks\": \"\"}, \"type\": \"contourcarpet\"}], \"heatmap\": [{\"colorbar\": {\"outlinewidth\": 0, \"ticks\": \"\"}, \"colorscale\": [[0.0, \"#0d0887\"], [0.1111111111111111, \"#46039f\"], [0.2222222222222222, \"#7201a8\"], [0.3333333333333333, \"#9c179e\"], [0.4444444444444444, \"#bd3786\"], [0.5555555555555556, \"#d8576b\"], [0.6666666666666666, \"#ed7953\"], [0.7777777777777778, \"#fb9f3a\"], [0.8888888888888888, \"#fdca26\"], [1.0, \"#f0f921\"]], \"type\": \"heatmap\"}], \"heatmapgl\": [{\"colorbar\": {\"outlinewidth\": 0, \"ticks\": \"\"}, \"colorscale\": [[0.0, \"#0d0887\"], [0.1111111111111111, \"#46039f\"], [0.2222222222222222, \"#7201a8\"], [0.3333333333333333, \"#9c179e\"], [0.4444444444444444, \"#bd3786\"], [0.5555555555555556, \"#d8576b\"], [0.6666666666666666, \"#ed7953\"], [0.7777777777777778, \"#fb9f3a\"], [0.8888888888888888, \"#fdca26\"], [1.0, \"#f0f921\"]], \"type\": \"heatmapgl\"}], \"histogram\": [{\"marker\": {\"colorbar\": {\"outlinewidth\": 0, \"ticks\": \"\"}}, \"type\": \"histogram\"}], \"histogram2d\": [{\"colorbar\": {\"outlinewidth\": 0, \"ticks\": \"\"}, \"colorscale\": [[0.0, \"#0d0887\"], [0.1111111111111111, \"#46039f\"], [0.2222222222222222, \"#7201a8\"], [0.3333333333333333, \"#9c179e\"], [0.4444444444444444, \"#bd3786\"], [0.5555555555555556, \"#d8576b\"], [0.6666666666666666, \"#ed7953\"], [0.7777777777777778, \"#fb9f3a\"], [0.8888888888888888, \"#fdca26\"], [1.0, \"#f0f921\"]], \"type\": \"histogram2d\"}], \"histogram2dcontour\": [{\"colorbar\": {\"outlinewidth\": 0, \"ticks\": \"\"}, \"colorscale\": [[0.0, \"#0d0887\"], [0.1111111111111111, \"#46039f\"], [0.2222222222222222, \"#7201a8\"], [0.3333333333333333, \"#9c179e\"], [0.4444444444444444, \"#bd3786\"], [0.5555555555555556, \"#d8576b\"], [0.6666666666666666, \"#ed7953\"], [0.7777777777777778, \"#fb9f3a\"], [0.8888888888888888, \"#fdca26\"], [1.0, \"#f0f921\"]], \"type\": \"histogram2dcontour\"}], \"mesh3d\": [{\"colorbar\": {\"outlinewidth\": 0, \"ticks\": \"\"}, \"type\": \"mesh3d\"}], \"parcoords\": [{\"line\": {\"colorbar\": {\"outlinewidth\": 0, \"ticks\": \"\"}}, \"type\": \"parcoords\"}], \"pie\": [{\"automargin\": true, \"type\": \"pie\"}], \"scatter\": [{\"marker\": {\"colorbar\": {\"outlinewidth\": 0, \"ticks\": \"\"}}, \"type\": \"scatter\"}], \"scatter3d\": [{\"line\": {\"colorbar\": {\"outlinewidth\": 0, \"ticks\": \"\"}}, \"marker\": {\"colorbar\": {\"outlinewidth\": 0, \"ticks\": \"\"}}, \"type\": \"scatter3d\"}], \"scattercarpet\": [{\"marker\": {\"colorbar\": {\"outlinewidth\": 0, \"ticks\": \"\"}}, \"type\": \"scattercarpet\"}], \"scattergeo\": [{\"marker\": {\"colorbar\": {\"outlinewidth\": 0, \"ticks\": \"\"}}, \"type\": \"scattergeo\"}], \"scattergl\": [{\"marker\": {\"colorbar\": {\"outlinewidth\": 0, \"ticks\": \"\"}}, \"type\": \"scattergl\"}], \"scattermapbox\": [{\"marker\": {\"colorbar\": {\"outlinewidth\": 0, \"ticks\": \"\"}}, \"type\": \"scattermapbox\"}], \"scatterpolar\": [{\"marker\": {\"colorbar\": {\"outlinewidth\": 0, \"ticks\": \"\"}}, \"type\": \"scatterpolar\"}], \"scatterpolargl\": [{\"marker\": {\"colorbar\": {\"outlinewidth\": 0, \"ticks\": \"\"}}, \"type\": \"scatterpolargl\"}], \"scatterternary\": [{\"marker\": {\"colorbar\": {\"outlinewidth\": 0, \"ticks\": \"\"}}, \"type\": \"scatterternary\"}], \"surface\": [{\"colorbar\": {\"outlinewidth\": 0, \"ticks\": \"\"}, \"colorscale\": [[0.0, \"#0d0887\"], [0.1111111111111111, \"#46039f\"], [0.2222222222222222, \"#7201a8\"], [0.3333333333333333, \"#9c179e\"], [0.4444444444444444, \"#bd3786\"], [0.5555555555555556, \"#d8576b\"], [0.6666666666666666, \"#ed7953\"], [0.7777777777777778, \"#fb9f3a\"], [0.8888888888888888, \"#fdca26\"], [1.0, \"#f0f921\"]], \"type\": \"surface\"}], \"table\": [{\"cells\": {\"fill\": {\"color\": \"#EBF0F8\"}, \"line\": {\"color\": \"white\"}}, \"header\": {\"fill\": {\"color\": \"#C8D4E3\"}, \"line\": {\"color\": \"white\"}}, \"type\": \"table\"}]}, \"layout\": {\"annotationdefaults\": {\"arrowcolor\": \"#2a3f5f\", \"arrowhead\": 0, \"arrowwidth\": 1}, \"coloraxis\": {\"colorbar\": {\"outlinewidth\": 0, \"ticks\": \"\"}}, \"colorscale\": {\"diverging\": [[0, \"#8e0152\"], [0.1, \"#c51b7d\"], [0.2, \"#de77ae\"], [0.3, \"#f1b6da\"], [0.4, \"#fde0ef\"], [0.5, \"#f7f7f7\"], [0.6, \"#e6f5d0\"], [0.7, \"#b8e186\"], [0.8, \"#7fbc41\"], [0.9, \"#4d9221\"], [1, \"#276419\"]], \"sequential\": [[0.0, \"#0d0887\"], [0.1111111111111111, \"#46039f\"], [0.2222222222222222, \"#7201a8\"], [0.3333333333333333, \"#9c179e\"], [0.4444444444444444, \"#bd3786\"], [0.5555555555555556, \"#d8576b\"], [0.6666666666666666, \"#ed7953\"], [0.7777777777777778, \"#fb9f3a\"], [0.8888888888888888, \"#fdca26\"], [1.0, \"#f0f921\"]], \"sequentialminus\": [[0.0, \"#0d0887\"], [0.1111111111111111, \"#46039f\"], [0.2222222222222222, \"#7201a8\"], [0.3333333333333333, \"#9c179e\"], [0.4444444444444444, \"#bd3786\"], [0.5555555555555556, \"#d8576b\"], [0.6666666666666666, \"#ed7953\"], [0.7777777777777778, \"#fb9f3a\"], [0.8888888888888888, \"#fdca26\"], [1.0, \"#f0f921\"]]}, \"colorway\": [\"#636efa\", \"#EF553B\", \"#00cc96\", \"#ab63fa\", \"#FFA15A\", \"#19d3f3\", \"#FF6692\", \"#B6E880\", \"#FF97FF\", \"#FECB52\"], \"font\": {\"color\": \"#2a3f5f\"}, \"geo\": {\"bgcolor\": \"white\", \"lakecolor\": \"white\", \"landcolor\": \"#E5ECF6\", \"showlakes\": true, \"showland\": true, \"subunitcolor\": \"white\"}, \"hoverlabel\": {\"align\": \"left\"}, \"hovermode\": \"closest\", \"mapbox\": {\"style\": \"light\"}, \"paper_bgcolor\": \"white\", \"plot_bgcolor\": \"#E5ECF6\", \"polar\": {\"angularaxis\": {\"gridcolor\": \"white\", \"linecolor\": \"white\", \"ticks\": \"\"}, \"bgcolor\": \"#E5ECF6\", \"radialaxis\": {\"gridcolor\": \"white\", \"linecolor\": \"white\", \"ticks\": \"\"}}, \"scene\": {\"xaxis\": {\"backgroundcolor\": \"#E5ECF6\", \"gridcolor\": \"white\", \"gridwidth\": 2, \"linecolor\": \"white\", \"showbackground\": true, \"ticks\": \"\", \"zerolinecolor\": \"white\"}, \"yaxis\": {\"backgroundcolor\": \"#E5ECF6\", \"gridcolor\": \"white\", \"gridwidth\": 2, \"linecolor\": \"white\", \"showbackground\": true, \"ticks\": \"\", \"zerolinecolor\": \"white\"}, \"zaxis\": {\"backgroundcolor\": \"#E5ECF6\", \"gridcolor\": \"white\", \"gridwidth\": 2, \"linecolor\": \"white\", \"showbackground\": true, \"ticks\": \"\", \"zerolinecolor\": \"white\"}}, \"shapedefaults\": {\"line\": {\"color\": \"#2a3f5f\"}}, \"ternary\": {\"aaxis\": {\"gridcolor\": \"white\", \"linecolor\": \"white\", \"ticks\": \"\"}, \"baxis\": {\"gridcolor\": \"white\", \"linecolor\": \"white\", \"ticks\": \"\"}, \"bgcolor\": \"#E5ECF6\", \"caxis\": {\"gridcolor\": \"white\", \"linecolor\": \"white\", \"ticks\": \"\"}}, \"title\": {\"x\": 0.05}, \"xaxis\": {\"automargin\": true, \"gridcolor\": \"white\", \"linecolor\": \"white\", \"ticks\": \"\", \"title\": {\"standoff\": 15}, \"zerolinecolor\": \"white\", \"zerolinewidth\": 2}, \"yaxis\": {\"automargin\": true, \"gridcolor\": \"white\", \"linecolor\": \"white\", \"ticks\": \"\", \"title\": {\"standoff\": 15}, \"zerolinecolor\": \"white\", \"zerolinewidth\": 2}}}, \"xaxis\": {\"anchor\": \"y\", \"domain\": [0.0, 1.0], \"title\": {\"text\": \"Year\"}, \"type\": \"category\"}, \"yaxis\": {\"anchor\": \"x\", \"domain\": [0.0, 1.0], \"title\": {\"text\": \"Number of Articles\"}}},\n",
       "                        {\"responsive\": true}\n",
       "                    ).then(function(){\n",
       "                            \n",
       "var gd = document.getElementById('51842a09-398d-4ebe-bdfb-396907ee48d3');\n",
       "var x = new MutationObserver(function (mutations, observer) {{\n",
       "        var display = window.getComputedStyle(gd).display;\n",
       "        if (!display || display === 'none') {{\n",
       "            console.log([gd, 'removed!']);\n",
       "            Plotly.purge(gd);\n",
       "            observer.disconnect();\n",
       "        }}\n",
       "}});\n",
       "\n",
       "// Listen for the removal of the full notebook cells\n",
       "var notebookContainer = gd.closest('#notebook-container');\n",
       "if (notebookContainer) {{\n",
       "    x.observe(notebookContainer, {childList: true});\n",
       "}}\n",
       "\n",
       "// Listen for the clearing of the current output cell\n",
       "var outputEl = gd.closest('.output');\n",
       "if (outputEl) {{\n",
       "    x.observe(outputEl, {childList: true});\n",
       "}}\n",
       "\n",
       "                        })\n",
       "                };\n",
       "                });\n",
       "            </script>\n",
       "        </div>"
      ]
     },
     "metadata": {},
     "output_type": "display_data"
    }
   ],
   "source": [
    "# checking how many years of data we have\n",
    "articles_per_year = all_data_df.year.value_counts()\n",
    "all_years = [2016,2017,2018,2019]\n",
    "articles_per_year = articles_per_year.loc[all_years]\n",
    "fig = px.bar(articles_per_year, x=articles_per_year.index, y=articles_per_year.values,)\n",
    "fig.update_xaxes(type='category')\n",
    "fig.update_xaxes(title_text='Year')\n",
    "fig.update_yaxes(title_text='Number of Articles')\n",
    "fig"
   ]
  },
  {
   "cell_type": "markdown",
   "metadata": {},
   "source": [
    "## Find IPC codes and sections\n"
   ]
  },
  {
   "cell_type": "code",
   "execution_count": 10,
   "metadata": {},
   "outputs": [],
   "source": [
    "contains_list =  []\n",
    "\n",
    "search_words = [\"section\",\"IPC\",\"Section\"]\n",
    "\n",
    "article_indices, articles_text = words_in_all_articles(search_words, all_data_df)\n",
    "\n"
   ]
  },
  {
   "cell_type": "code",
   "execution_count": 11,
   "metadata": {},
   "outputs": [
    {
     "data": {
      "text/plain": [
       "690"
      ]
     },
     "execution_count": 11,
     "metadata": {},
     "output_type": "execute_result"
    }
   ],
   "source": [
    "len(article_indices)"
   ]
  },
  {
   "cell_type": "code",
   "execution_count": 12,
   "metadata": {},
   "outputs": [
    {
     "data": {
      "text/html": [
       "<div>\n",
       "<style scoped>\n",
       "    .dataframe tbody tr th:only-of-type {\n",
       "        vertical-align: middle;\n",
       "    }\n",
       "\n",
       "    .dataframe tbody tr th {\n",
       "        vertical-align: top;\n",
       "    }\n",
       "\n",
       "    .dataframe thead th {\n",
       "        text-align: right;\n",
       "    }\n",
       "</style>\n",
       "<table border=\"1\" class=\"dataframe\">\n",
       "  <thead>\n",
       "    <tr style=\"text-align: right;\">\n",
       "      <th></th>\n",
       "      <th>auth_datetime</th>\n",
       "      <th>url_data</th>\n",
       "      <th>content</th>\n",
       "      <th>year</th>\n",
       "      <th>month</th>\n",
       "      <th>day</th>\n",
       "      <th>hour</th>\n",
       "      <th>minutes</th>\n",
       "    </tr>\n",
       "  </thead>\n",
       "  <tbody>\n",
       "    <tr>\n",
       "      <th>1</th>\n",
       "      <td>[Bangalore Mirror Bureau , |,  Updated: May 20...</td>\n",
       "      <td>https://bangaloremirror.indiatimes.com/bangalo...</td>\n",
       "      <td>[Fourteen stolen ,  and ,  of Rs 82,000 face v...</td>\n",
       "      <td>2019</td>\n",
       "      <td>5</td>\n",
       "      <td>20</td>\n",
       "      <td>6</td>\n",
       "      <td>0</td>\n",
       "    </tr>\n",
       "    <tr>\n",
       "      <th>3</th>\n",
       "      <td>[Bangalore Mirror Bureau , |,  Updated: May 20...</td>\n",
       "      <td>https://bangaloremirror.indiatimes.com/bangalo...</td>\n",
       "      <td>[A man waiting for a bus was robbed at ,  by t...</td>\n",
       "      <td>2019</td>\n",
       "      <td>5</td>\n",
       "      <td>20</td>\n",
       "      <td>4</td>\n",
       "      <td>0</td>\n",
       "    </tr>\n",
       "    <tr>\n",
       "      <th>16</th>\n",
       "      <td>[By , Praveen Kumar, Praveen Kumar, , Bangalor...</td>\n",
       "      <td>https://bangaloremirror.indiatimes.com/bangalo...</td>\n",
       "      <td>[\\n, A 26-year-old auto driver has been arrest...</td>\n",
       "      <td>2019</td>\n",
       "      <td>5</td>\n",
       "      <td>18</td>\n",
       "      <td>6</td>\n",
       "      <td>0</td>\n",
       "    </tr>\n",
       "    <tr>\n",
       "      <th>17</th>\n",
       "      <td>[Bangalore Mirror Bureau , |,  Updated: May 17...</td>\n",
       "      <td>https://bangaloremirror.indiatimes.com/bangalo...</td>\n",
       "      <td>[\\n, \\n, Just 25 days after his marriage, a 24...</td>\n",
       "      <td>2019</td>\n",
       "      <td>5</td>\n",
       "      <td>17</td>\n",
       "      <td>6</td>\n",
       "      <td>0</td>\n",
       "    </tr>\n",
       "    <tr>\n",
       "      <th>23</th>\n",
       "      <td>[Bangalore Mirror Bureau , |,  Updated: May 8,...</td>\n",
       "      <td>https://bangaloremirror.indiatimes.com/bangalo...</td>\n",
       "      <td>[A 31-year-old driver was ,  by a group of men...</td>\n",
       "      <td>2019</td>\n",
       "      <td>5</td>\n",
       "      <td>8</td>\n",
       "      <td>6</td>\n",
       "      <td>0</td>\n",
       "    </tr>\n",
       "    <tr>\n",
       "      <th>...</th>\n",
       "      <td>...</td>\n",
       "      <td>...</td>\n",
       "      <td>...</td>\n",
       "      <td>...</td>\n",
       "      <td>...</td>\n",
       "      <td>...</td>\n",
       "      <td>...</td>\n",
       "      <td>...</td>\n",
       "    </tr>\n",
       "    <tr>\n",
       "      <th>2587</th>\n",
       "      <td>[By , Praveen Kumar, Praveen Kumar, , Bangalor...</td>\n",
       "      <td>https://bangaloremirror.indiatimes.com/bangalo...</td>\n",
       "      <td>[ \\n,  The city police have identified and arr...</td>\n",
       "      <td>2016</td>\n",
       "      <td>9</td>\n",
       "      <td>17</td>\n",
       "      <td>4</td>\n",
       "      <td>0</td>\n",
       "    </tr>\n",
       "    <tr>\n",
       "      <th>2589</th>\n",
       "      <td>[Bangalore Mirror Bureau , |,  Updated: Oct 6,...</td>\n",
       "      <td>https://bangaloremirror.indiatimes.com/bangalo...</td>\n",
       "      <td>[ Five were arrested for their alleged involve...</td>\n",
       "      <td>2016</td>\n",
       "      <td>10</td>\n",
       "      <td>6</td>\n",
       "      <td>4</td>\n",
       "      <td>0</td>\n",
       "    </tr>\n",
       "    <tr>\n",
       "      <th>2592</th>\n",
       "      <td>[Bangalore Mirror Bureau , |,  Updated: Sep 7,...</td>\n",
       "      <td>https://bangaloremirror.indiatimes.com/bangalo...</td>\n",
       "      <td>[Pregnant, unmarried and abandoned by the boyf...</td>\n",
       "      <td>2016</td>\n",
       "      <td>9</td>\n",
       "      <td>7</td>\n",
       "      <td>2</td>\n",
       "      <td>0</td>\n",
       "    </tr>\n",
       "    <tr>\n",
       "      <th>2596</th>\n",
       "      <td>[By , Chaitanya Swamy H M, Chaitanya Swamy H M...</td>\n",
       "      <td>https://bangaloremirror.indiatimes.com/bangalo...</td>\n",
       "      <td>[ \\n, \\n,  \\n,  \\n,  Two ,  were attacked and ...</td>\n",
       "      <td>2016</td>\n",
       "      <td>10</td>\n",
       "      <td>17</td>\n",
       "      <td>4</td>\n",
       "      <td>0</td>\n",
       "    </tr>\n",
       "    <tr>\n",
       "      <th>2599</th>\n",
       "      <td>[By , Chaitanya Swamy H M, Chaitanya Swamy H M...</td>\n",
       "      <td>https://bangaloremirror.indiatimes.com/bangalo...</td>\n",
       "      <td>[ \\n,  \\n, \\n,  \\n,  \\n,  A 31-year-old marrie...</td>\n",
       "      <td>2016</td>\n",
       "      <td>10</td>\n",
       "      <td>17</td>\n",
       "      <td>4</td>\n",
       "      <td>0</td>\n",
       "    </tr>\n",
       "  </tbody>\n",
       "</table>\n",
       "<p>690 rows × 8 columns</p>\n",
       "</div>"
      ],
      "text/plain": [
       "                                          auth_datetime  \\\n",
       "1     [Bangalore Mirror Bureau , |,  Updated: May 20...   \n",
       "3     [Bangalore Mirror Bureau , |,  Updated: May 20...   \n",
       "16    [By , Praveen Kumar, Praveen Kumar, , Bangalor...   \n",
       "17    [Bangalore Mirror Bureau , |,  Updated: May 17...   \n",
       "23    [Bangalore Mirror Bureau , |,  Updated: May 8,...   \n",
       "...                                                 ...   \n",
       "2587  [By , Praveen Kumar, Praveen Kumar, , Bangalor...   \n",
       "2589  [Bangalore Mirror Bureau , |,  Updated: Oct 6,...   \n",
       "2592  [Bangalore Mirror Bureau , |,  Updated: Sep 7,...   \n",
       "2596  [By , Chaitanya Swamy H M, Chaitanya Swamy H M...   \n",
       "2599  [By , Chaitanya Swamy H M, Chaitanya Swamy H M...   \n",
       "\n",
       "                                               url_data  \\\n",
       "1     https://bangaloremirror.indiatimes.com/bangalo...   \n",
       "3     https://bangaloremirror.indiatimes.com/bangalo...   \n",
       "16    https://bangaloremirror.indiatimes.com/bangalo...   \n",
       "17    https://bangaloremirror.indiatimes.com/bangalo...   \n",
       "23    https://bangaloremirror.indiatimes.com/bangalo...   \n",
       "...                                                 ...   \n",
       "2587  https://bangaloremirror.indiatimes.com/bangalo...   \n",
       "2589  https://bangaloremirror.indiatimes.com/bangalo...   \n",
       "2592  https://bangaloremirror.indiatimes.com/bangalo...   \n",
       "2596  https://bangaloremirror.indiatimes.com/bangalo...   \n",
       "2599  https://bangaloremirror.indiatimes.com/bangalo...   \n",
       "\n",
       "                                                content  year month day hour  \\\n",
       "1     [Fourteen stolen ,  and ,  of Rs 82,000 face v...  2019     5  20    6   \n",
       "3     [A man waiting for a bus was robbed at ,  by t...  2019     5  20    4   \n",
       "16    [\\n, A 26-year-old auto driver has been arrest...  2019     5  18    6   \n",
       "17    [\\n, \\n, Just 25 days after his marriage, a 24...  2019     5  17    6   \n",
       "23    [A 31-year-old driver was ,  by a group of men...  2019     5   8    6   \n",
       "...                                                 ...   ...   ...  ..  ...   \n",
       "2587  [ \\n,  The city police have identified and arr...  2016     9  17    4   \n",
       "2589  [ Five were arrested for their alleged involve...  2016    10   6    4   \n",
       "2592  [Pregnant, unmarried and abandoned by the boyf...  2016     9   7    2   \n",
       "2596  [ \\n, \\n,  \\n,  \\n,  Two ,  were attacked and ...  2016    10  17    4   \n",
       "2599  [ \\n,  \\n, \\n,  \\n,  \\n,  A 31-year-old marrie...  2016    10  17    4   \n",
       "\n",
       "     minutes  \n",
       "1          0  \n",
       "3          0  \n",
       "16         0  \n",
       "17         0  \n",
       "23         0  \n",
       "...      ...  \n",
       "2587       0  \n",
       "2589       0  \n",
       "2592       0  \n",
       "2596       0  \n",
       "2599       0  \n",
       "\n",
       "[690 rows x 8 columns]"
      ]
     },
     "execution_count": 12,
     "metadata": {},
     "output_type": "execute_result"
    }
   ],
   "source": [
    "section_df = all_data_df.iloc[article_indices]\n",
    "\n",
    "section_df"
   ]
  },
  {
   "cell_type": "code",
   "execution_count": 13,
   "metadata": {},
   "outputs": [
    {
     "data": {
      "text/html": [
       "<div>\n",
       "<style scoped>\n",
       "    .dataframe tbody tr th:only-of-type {\n",
       "        vertical-align: middle;\n",
       "    }\n",
       "\n",
       "    .dataframe tbody tr th {\n",
       "        vertical-align: top;\n",
       "    }\n",
       "\n",
       "    .dataframe thead th {\n",
       "        text-align: right;\n",
       "    }\n",
       "</style>\n",
       "<table border=\"1\" class=\"dataframe\">\n",
       "  <thead>\n",
       "    <tr style=\"text-align: right;\">\n",
       "      <th></th>\n",
       "      <th>auth_datetime</th>\n",
       "      <th>url_data</th>\n",
       "      <th>content</th>\n",
       "      <th>year</th>\n",
       "      <th>month</th>\n",
       "      <th>day</th>\n",
       "      <th>hour</th>\n",
       "      <th>minutes</th>\n",
       "    </tr>\n",
       "  </thead>\n",
       "  <tbody>\n",
       "    <tr>\n",
       "      <th>1</th>\n",
       "      <td>[Bangalore Mirror Bureau , |,  Updated: May 20...</td>\n",
       "      <td>https://bangaloremirror.indiatimes.com/bangalo...</td>\n",
       "      <td>[Fourteen stolen ,  and ,  of Rs 82,000 face v...</td>\n",
       "      <td>2019</td>\n",
       "      <td>5</td>\n",
       "      <td>20</td>\n",
       "      <td>6</td>\n",
       "      <td>0</td>\n",
       "    </tr>\n",
       "    <tr>\n",
       "      <th>3</th>\n",
       "      <td>[Bangalore Mirror Bureau , |,  Updated: May 20...</td>\n",
       "      <td>https://bangaloremirror.indiatimes.com/bangalo...</td>\n",
       "      <td>[A man waiting for a bus was robbed at ,  by t...</td>\n",
       "      <td>2019</td>\n",
       "      <td>5</td>\n",
       "      <td>20</td>\n",
       "      <td>4</td>\n",
       "      <td>0</td>\n",
       "    </tr>\n",
       "    <tr>\n",
       "      <th>16</th>\n",
       "      <td>[By , Praveen Kumar, Praveen Kumar, , Bangalor...</td>\n",
       "      <td>https://bangaloremirror.indiatimes.com/bangalo...</td>\n",
       "      <td>[\\n, A 26-year-old auto driver has been arrest...</td>\n",
       "      <td>2019</td>\n",
       "      <td>5</td>\n",
       "      <td>18</td>\n",
       "      <td>6</td>\n",
       "      <td>0</td>\n",
       "    </tr>\n",
       "    <tr>\n",
       "      <th>17</th>\n",
       "      <td>[Bangalore Mirror Bureau , |,  Updated: May 17...</td>\n",
       "      <td>https://bangaloremirror.indiatimes.com/bangalo...</td>\n",
       "      <td>[\\n, \\n, Just 25 days after his marriage, a 24...</td>\n",
       "      <td>2019</td>\n",
       "      <td>5</td>\n",
       "      <td>17</td>\n",
       "      <td>6</td>\n",
       "      <td>0</td>\n",
       "    </tr>\n",
       "    <tr>\n",
       "      <th>23</th>\n",
       "      <td>[Bangalore Mirror Bureau , |,  Updated: May 8,...</td>\n",
       "      <td>https://bangaloremirror.indiatimes.com/bangalo...</td>\n",
       "      <td>[A 31-year-old driver was ,  by a group of men...</td>\n",
       "      <td>2019</td>\n",
       "      <td>5</td>\n",
       "      <td>8</td>\n",
       "      <td>6</td>\n",
       "      <td>0</td>\n",
       "    </tr>\n",
       "    <tr>\n",
       "      <th>...</th>\n",
       "      <td>...</td>\n",
       "      <td>...</td>\n",
       "      <td>...</td>\n",
       "      <td>...</td>\n",
       "      <td>...</td>\n",
       "      <td>...</td>\n",
       "      <td>...</td>\n",
       "      <td>...</td>\n",
       "    </tr>\n",
       "    <tr>\n",
       "      <th>2587</th>\n",
       "      <td>[By , Praveen Kumar, Praveen Kumar, , Bangalor...</td>\n",
       "      <td>https://bangaloremirror.indiatimes.com/bangalo...</td>\n",
       "      <td>[ \\n,  The city police have identified and arr...</td>\n",
       "      <td>2016</td>\n",
       "      <td>9</td>\n",
       "      <td>17</td>\n",
       "      <td>4</td>\n",
       "      <td>0</td>\n",
       "    </tr>\n",
       "    <tr>\n",
       "      <th>2589</th>\n",
       "      <td>[Bangalore Mirror Bureau , |,  Updated: Oct 6,...</td>\n",
       "      <td>https://bangaloremirror.indiatimes.com/bangalo...</td>\n",
       "      <td>[ Five were arrested for their alleged involve...</td>\n",
       "      <td>2016</td>\n",
       "      <td>10</td>\n",
       "      <td>6</td>\n",
       "      <td>4</td>\n",
       "      <td>0</td>\n",
       "    </tr>\n",
       "    <tr>\n",
       "      <th>2592</th>\n",
       "      <td>[Bangalore Mirror Bureau , |,  Updated: Sep 7,...</td>\n",
       "      <td>https://bangaloremirror.indiatimes.com/bangalo...</td>\n",
       "      <td>[Pregnant, unmarried and abandoned by the boyf...</td>\n",
       "      <td>2016</td>\n",
       "      <td>9</td>\n",
       "      <td>7</td>\n",
       "      <td>2</td>\n",
       "      <td>0</td>\n",
       "    </tr>\n",
       "    <tr>\n",
       "      <th>2596</th>\n",
       "      <td>[By , Chaitanya Swamy H M, Chaitanya Swamy H M...</td>\n",
       "      <td>https://bangaloremirror.indiatimes.com/bangalo...</td>\n",
       "      <td>[ \\n, \\n,  \\n,  \\n,  Two ,  were attacked and ...</td>\n",
       "      <td>2016</td>\n",
       "      <td>10</td>\n",
       "      <td>17</td>\n",
       "      <td>4</td>\n",
       "      <td>0</td>\n",
       "    </tr>\n",
       "    <tr>\n",
       "      <th>2599</th>\n",
       "      <td>[By , Chaitanya Swamy H M, Chaitanya Swamy H M...</td>\n",
       "      <td>https://bangaloremirror.indiatimes.com/bangalo...</td>\n",
       "      <td>[ \\n,  \\n, \\n,  \\n,  \\n,  A 31-year-old marrie...</td>\n",
       "      <td>2016</td>\n",
       "      <td>10</td>\n",
       "      <td>17</td>\n",
       "      <td>4</td>\n",
       "      <td>0</td>\n",
       "    </tr>\n",
       "  </tbody>\n",
       "</table>\n",
       "<p>690 rows × 8 columns</p>\n",
       "</div>"
      ],
      "text/plain": [
       "                                          auth_datetime  \\\n",
       "1     [Bangalore Mirror Bureau , |,  Updated: May 20...   \n",
       "3     [Bangalore Mirror Bureau , |,  Updated: May 20...   \n",
       "16    [By , Praveen Kumar, Praveen Kumar, , Bangalor...   \n",
       "17    [Bangalore Mirror Bureau , |,  Updated: May 17...   \n",
       "23    [Bangalore Mirror Bureau , |,  Updated: May 8,...   \n",
       "...                                                 ...   \n",
       "2587  [By , Praveen Kumar, Praveen Kumar, , Bangalor...   \n",
       "2589  [Bangalore Mirror Bureau , |,  Updated: Oct 6,...   \n",
       "2592  [Bangalore Mirror Bureau , |,  Updated: Sep 7,...   \n",
       "2596  [By , Chaitanya Swamy H M, Chaitanya Swamy H M...   \n",
       "2599  [By , Chaitanya Swamy H M, Chaitanya Swamy H M...   \n",
       "\n",
       "                                               url_data  \\\n",
       "1     https://bangaloremirror.indiatimes.com/bangalo...   \n",
       "3     https://bangaloremirror.indiatimes.com/bangalo...   \n",
       "16    https://bangaloremirror.indiatimes.com/bangalo...   \n",
       "17    https://bangaloremirror.indiatimes.com/bangalo...   \n",
       "23    https://bangaloremirror.indiatimes.com/bangalo...   \n",
       "...                                                 ...   \n",
       "2587  https://bangaloremirror.indiatimes.com/bangalo...   \n",
       "2589  https://bangaloremirror.indiatimes.com/bangalo...   \n",
       "2592  https://bangaloremirror.indiatimes.com/bangalo...   \n",
       "2596  https://bangaloremirror.indiatimes.com/bangalo...   \n",
       "2599  https://bangaloremirror.indiatimes.com/bangalo...   \n",
       "\n",
       "                                                content  year month day hour  \\\n",
       "1     [Fourteen stolen ,  and ,  of Rs 82,000 face v...  2019     5  20    6   \n",
       "3     [A man waiting for a bus was robbed at ,  by t...  2019     5  20    4   \n",
       "16    [\\n, A 26-year-old auto driver has been arrest...  2019     5  18    6   \n",
       "17    [\\n, \\n, Just 25 days after his marriage, a 24...  2019     5  17    6   \n",
       "23    [A 31-year-old driver was ,  by a group of men...  2019     5   8    6   \n",
       "...                                                 ...   ...   ...  ..  ...   \n",
       "2587  [ \\n,  The city police have identified and arr...  2016     9  17    4   \n",
       "2589  [ Five were arrested for their alleged involve...  2016    10   6    4   \n",
       "2592  [Pregnant, unmarried and abandoned by the boyf...  2016     9   7    2   \n",
       "2596  [ \\n, \\n,  \\n,  \\n,  Two ,  were attacked and ...  2016    10  17    4   \n",
       "2599  [ \\n,  \\n, \\n,  \\n,  \\n,  A 31-year-old marrie...  2016    10  17    4   \n",
       "\n",
       "     minutes  \n",
       "1          0  \n",
       "3          0  \n",
       "16         0  \n",
       "17         0  \n",
       "23         0  \n",
       "...      ...  \n",
       "2587       0  \n",
       "2589       0  \n",
       "2592       0  \n",
       "2596       0  \n",
       "2599       0  \n",
       "\n",
       "[690 rows x 8 columns]"
      ]
     },
     "execution_count": 13,
     "metadata": {},
     "output_type": "execute_result"
    }
   ],
   "source": [
    "section_df"
   ]
  },
  {
   "cell_type": "markdown",
   "metadata": {},
   "source": [
    "### Print sentences with search words in them \n"
   ]
  },
  {
   "cell_type": "code",
   "execution_count": 14,
   "metadata": {},
   "outputs": [],
   "source": [
    "\n",
    "\n",
    "\n",
    "articles_df =section_df\n",
    "for num in range(0, len(articles_df)): \n",
    "    relevant_sentences= []\n",
    "    \n",
    "    single_page =\"\"\n",
    "    art_content = articles_df.iloc[num].content\n",
    "    single_page =  single_page.join(art_content)\n",
    "    single_page = single_page.replace(\"\\n\",\" \").strip()\n",
    "    sentences = nk.sent_tokenize(single_page)\n",
    "\n",
    "\n",
    "    for sent in sentences:\n",
    "        for word in search_words: \n",
    "            if word in sent: \n",
    "                relevant_sentences.append(sent)\n",
    "    \n",
    "    data = {'sentences': relevant_sentences, \n",
    "                'sentence_index': [num for x in range(len(relevant_sentences)) ]}\n",
    "\n",
    "    if num == 0: \n",
    "        relevant_sentences_df = pd.DataFrame(data= data)\n",
    "    else: \n",
    "        relevant_sentences_df.append(data, ignore_index = True)\n",
    "        \n"
   ]
  },
  {
   "cell_type": "code",
   "execution_count": 15,
   "metadata": {},
   "outputs": [
    {
     "data": {
      "text/html": [
       "<div>\n",
       "<style scoped>\n",
       "    .dataframe tbody tr th:only-of-type {\n",
       "        vertical-align: middle;\n",
       "    }\n",
       "\n",
       "    .dataframe tbody tr th {\n",
       "        vertical-align: top;\n",
       "    }\n",
       "\n",
       "    .dataframe thead th {\n",
       "        text-align: right;\n",
       "    }\n",
       "</style>\n",
       "<table border=\"1\" class=\"dataframe\">\n",
       "  <thead>\n",
       "    <tr style=\"text-align: right;\">\n",
       "      <th></th>\n",
       "      <th>sentences</th>\n",
       "      <th>sentence_index</th>\n",
       "    </tr>\n",
       "  </thead>\n",
       "  <tbody>\n",
       "    <tr>\n",
       "      <th>0</th>\n",
       "      <td>Shaikh was booked under IPC sections 489B (usi...</td>\n",
       "      <td>0</td>\n",
       "    </tr>\n",
       "    <tr>\n",
       "      <th>1</th>\n",
       "      <td>Shaikh was booked under IPC sections 489B (usi...</td>\n",
       "      <td>0</td>\n",
       "    </tr>\n",
       "  </tbody>\n",
       "</table>\n",
       "</div>"
      ],
      "text/plain": [
       "                                           sentences  sentence_index\n",
       "0  Shaikh was booked under IPC sections 489B (usi...               0\n",
       "1  Shaikh was booked under IPC sections 489B (usi...               0"
      ]
     },
     "execution_count": 15,
     "metadata": {},
     "output_type": "execute_result"
    }
   ],
   "source": [
    "relevant_sentences_df"
   ]
  },
  {
   "cell_type": "code",
   "execution_count": 16,
   "metadata": {},
   "outputs": [
    {
     "data": {
      "text/plain": [
       "690"
      ]
     },
     "execution_count": 16,
     "metadata": {},
     "output_type": "execute_result"
    }
   ],
   "source": [
    "len(articles_df)"
   ]
  },
  {
   "cell_type": "code",
   "execution_count": 17,
   "metadata": {},
   "outputs": [
    {
     "data": {
      "text/plain": [
       "{'sentences': ['Pasha has been booked under the POCSO Act for sexual harassment and use of a child for pornographic purposes and IPC Section 354 (D) for stalking, and sent to judicial custody.',\n",
       "  'Pasha has been booked under the POCSO Act for sexual harassment and use of a child for pornographic purposes and IPC Section 354 (D) for stalking, and sent to judicial custody.'],\n",
       " 'sentence_index': [689, 689]}"
      ]
     },
     "execution_count": 17,
     "metadata": {},
     "output_type": "execute_result"
    }
   ],
   "source": [
    "data"
   ]
  },
  {
   "cell_type": "markdown",
   "metadata": {},
   "source": [
    "## Test extracting locations\n"
   ]
  },
  {
   "cell_type": "code",
   "execution_count": 18,
   "metadata": {},
   "outputs": [
    {
     "data": {
      "text/plain": [
       "'By Pragna L Krupa  Sneaky sneakers aka thieves with a fetish for  have struck again in the city — this time in a residential area in Vasanthnagar. The thief has decamped with multiple pairs of branded shoes like , ,  and Skechers; all told the shoes were worth Rs 35,000.   Two Vasanthnagar residents have now filed a complaint with the High Grounds police. The thief has been caught on camera stealing the shoes during the night.   The complainant, Ajith Suran, said that on Saturday he had kept his shoes along with the box outside the house in the shoe rack; on Sunday morning he noticed that two of his new shoes, Nike and , were missing from the rack. He said after checking the CCTV footage he learnt that a thief had stolen them.   While narrating the story to his friend, L Radha Krishna Raj, who resides in the same area, Suran realised that four pairs of shoes had been stolen from his house too last month. Suran told  Mirror that four pairs of Nike, Adidas and Bata went missing from their shoe rack but nobody thought of going to the police. Suran said that the thief might have committed several such shoe thefts in their area and all the shoes which were stolen from his and his friend’s house were expensive and branded ones while the other pairs kept alongside were left untouched.   After reviewing the CCTV footage, an official from High Grounds police station told Bangalore Mirror that the thief can be seen entering the house around 8.30 pm when the gates are open; he quickly grabs the two shoe boxes and flees. Police said that so far they have received only two such complaints and are trying to find out if there were any such incidents which may have gone unreported.   Earlier in June 2018, two to three shoe thieves were caught on camera in a series of shoe thefts in Vidyaranyapura. The thieves had given sleepless nights to the residents by stealing as many as 20 new pairs of branded shoes from various houses.'"
      ]
     },
     "execution_count": 18,
     "metadata": {},
     "output_type": "execute_result"
    }
   ],
   "source": [
    "single_page =\"\"\n",
    "re = all_data_df.iloc[num].content\n",
    "single_page =  single_page.join(all_data_df.iloc[18].content)\n",
    "single_page = single_page.replace(\"\\n\",\" \").strip()\n",
    "single_page"
   ]
  },
  {
   "cell_type": "code",
   "execution_count": 19,
   "metadata": {},
   "outputs": [
    {
     "data": {
      "text/plain": [
       "[('Two', 'CD'),\n",
       " ('Vasanthnagar', 'NNP'),\n",
       " ('residents', 'NNS'),\n",
       " ('have', 'VBP'),\n",
       " ('now', 'RB'),\n",
       " ('filed', 'VBN'),\n",
       " ('a', 'DT'),\n",
       " ('complaint', 'NN'),\n",
       " ('with', 'IN'),\n",
       " ('the', 'DT'),\n",
       " ('High', 'NNP'),\n",
       " ('Grounds', 'NNP'),\n",
       " ('police', 'NNS'),\n",
       " ('.', '.')]"
      ]
     },
     "execution_count": 19,
     "metadata": {},
     "output_type": "execute_result"
    }
   ],
   "source": [
    "nk.pos_tag(nk.word_tokenize(nk.sent_tokenize(single_page)[2]))"
   ]
  },
  {
   "cell_type": "code",
   "execution_count": 20,
   "metadata": {},
   "outputs": [
    {
     "data": {
      "text/plain": [
       "array([[1.],\n",
       "       [1.],\n",
       "       [1.],\n",
       "       [1.],\n",
       "       [1.],\n",
       "       [1.],\n",
       "       [1.],\n",
       "       [1.],\n",
       "       [1.],\n",
       "       [1.]])"
      ]
     },
     "execution_count": 20,
     "metadata": {},
     "output_type": "execute_result"
    }
   ],
   "source": [
    "np.ones([10,1])"
   ]
  },
  {
   "cell_type": "code",
   "execution_count": 21,
   "metadata": {},
   "outputs": [],
   "source": [
    "# string_value =\"The victim has been identified as Murthy N, 28, a resident of KR Puram, who works at a private company as a driver. His brother, Somashekar, told  Mirror that on Saturday evening when Murthy was on his way to deliver a customer's car around 6 pm, a bike hit the car’s bumper from behind on Kodichikkanahalli Main Road in Bilekahalli.\"\n",
    "# tagged = nk.word_tokenize(string_value)"
   ]
  },
  {
   "cell_type": "code",
   "execution_count": 22,
   "metadata": {},
   "outputs": [],
   "source": [
    "# from nltk.tag import StanfordNERTagger\n"
   ]
  },
  {
   "cell_type": "code",
   "execution_count": 23,
   "metadata": {},
   "outputs": [],
   "source": [
    "# stanford_classifier = 'D:/Data_science/nltk_stanford/stanford-ner-2015-12-09/classifiers/english.all.3class.distsim.crf.ser.gz'\n",
    "# stanford_ner_path = 'D:/Data_science/nltk_stanford/stanford-ner-2015-12-09/stanford-ner.jar'"
   ]
  },
  {
   "cell_type": "code",
   "execution_count": 24,
   "metadata": {},
   "outputs": [],
   "source": [
    "# st = StanfordNERTagger(stanford_classifier, stanford_ner_path, encoding='utf-8')\n"
   ]
  },
  {
   "cell_type": "code",
   "execution_count": 25,
   "metadata": {},
   "outputs": [],
   "source": [
    "# import os\n",
    "# java_path = \"C:/Program Files/Java/jdk-12.0.1/bin\"\n",
    "# os.environ['JAVAHOME'] = java_path\n",
    "\n",
    "# text = 'While in France, Christine Lagarde discussed short-term stimulus efforts in a recent interview with the Wall Street Journal.'\n",
    "\n",
    "# # tokenized_text = nk.word_tokenize(string_val)\n",
    "# classified_text = st.tag(tagged)\n"
   ]
  },
  {
   "cell_type": "code",
   "execution_count": 26,
   "metadata": {},
   "outputs": [],
   "source": [
    "# nlp = sp.load(\"en_core_web_sm\")\n"
   ]
  },
  {
   "cell_type": "code",
   "execution_count": null,
   "metadata": {},
   "outputs": [],
   "source": []
  }
 ],
 "metadata": {
  "kernelspec": {
   "display_name": "Python 3",
   "language": "python",
   "name": "python3"
  },
  "language_info": {
   "codemirror_mode": {
    "name": "ipython",
    "version": 3
   },
   "file_extension": ".py",
   "mimetype": "text/x-python",
   "name": "python",
   "nbconvert_exporter": "python",
   "pygments_lexer": "ipython3",
   "version": "3.7.3"
  }
 },
 "nbformat": 4,
 "nbformat_minor": 4
}
